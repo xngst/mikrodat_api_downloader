{
 "cells": [
  {
   "cell_type": "code",
   "execution_count": 1,
   "id": "ca3d2941",
   "metadata": {},
   "outputs": [],
   "source": [
    "import sqlite3\n",
    "import os\n",
    "import re\n",
    "from pathlib import Path\n",
    "from markupsafe import Markup"
   ]
  },
  {
   "cell_type": "code",
   "execution_count": 2,
   "id": "4b336118",
   "metadata": {},
   "outputs": [
    {
     "name": "stdout",
     "output_type": "stream",
     "text": [
      "Number of results: 17\n",
      "CPU times: user 305 ms, sys: 70.9 ms, total: 376 ms\n",
      "Wall time: 376 ms\n"
     ]
    },
    {
     "data": {
      "text/plain": [
       "{'dátum': '2023.09.14.',\n",
       " 'név': 'Képviselő-testület',\n",
       " 'napirendi pont': 'Településrendezési szerződések megkötése',\n",
       " 'file': 'Telepítési tanulmányterv Hosszúréti utca.txt',\n",
       " 'context': Markup(\"Az egykor gyümölcsösként használt területet mára már erdőszerű, spontán nőtt fás növényzet \\nborítja. A fa és cserjeállomány néhány idősebb, értékes faegyedből, valamint pionír fa és \\ncserjefajok sűrűn benőtt zárt tömbjeiből, továbbá kisebb füves nyiladékokból áll. A területet \\njelenleg a környező, már beépült lakóterületek lakossága <span class='highlight'>kutya</span>sétáltatásra használja. \\n \\n\\x0c11\")}"
      ]
     },
     "execution_count": 2,
     "metadata": {},
     "output_type": "execute_result"
    }
   ],
   "source": [
    "%%time\n",
    "\n",
    "search_text = \"kutya\"\n",
    "case_sensitive = False\n",
    "exact_match = False\n",
    "\n",
    "def fetch_data_from_db(database_path, query):\n",
    "    with sqlite3.connect(database_path) as conn:\n",
    "        cursor = conn.cursor()\n",
    "        cursor.execute(query)\n",
    "        rows = cursor.fetchall()\n",
    "        columns = [desc[0] for desc in cursor.description]\n",
    "    return [dict(zip(columns, row)) for row in rows]  # Returns a list of dictionaries.\n",
    "\n",
    "DATABASE_PATH = Path(\"onkorm.db\")\n",
    "txt_folder = Path(\"../txt\")\n",
    "\n",
    "flags = 0 if case_sensitive else re.IGNORECASE\n",
    "pattern = rf\"\\b{re.escape(search_text)}\\b\" if exact_match else re.escape(search_text)\n",
    "regex = re.compile(pattern, flags)\n",
    "\n",
    "mappa_query = \"SELECT * FROM ujbuda_meghivo_mappa\"\n",
    "reszlet_query = \"SELECT * FROM ujbuda_meghivo_reszlet\"\n",
    "napi_query = \"SELECT * FROM ujbuda_napirendi\"\n",
    "\n",
    "mappa_data = fetch_data_from_db(DATABASE_PATH, mappa_query)\n",
    "reszlet_data = fetch_data_from_db(DATABASE_PATH, reszlet_query)\n",
    "napi_data = fetch_data_from_db(DATABASE_PATH, napi_query)\n",
    "\n",
    "results = []\n",
    "\n",
    "for folder in os.listdir(txt_folder):\n",
    "    folder_path = os.path.join(txt_folder, folder)\n",
    "\n",
    "    for subfolder in os.listdir(folder_path):\n",
    "        subfolder_path = os.path.join(folder_path, subfolder)\n",
    "\n",
    "        for file in os.listdir(subfolder_path):\n",
    "            file_path = os.path.join(subfolder_path, file)\n",
    "\n",
    "            with open(file_path, 'r', encoding='utf-8') as f:\n",
    "                lines = f.readlines()\n",
    "\n",
    "            for i, line in enumerate(lines):\n",
    "                if regex.search(line):\n",
    "                    start, end = max(0, i - 3), min(len(lines), i + 4)\n",
    "                    context = ''.join(lines[start:end]).strip()\n",
    "                    highlighted_context = re.sub(\n",
    "                        pattern,\n",
    "                        lambda m: f\"<span class='highlight'>{m.group(0)}</span>\",\n",
    "                        context,\n",
    "                        flags=flags,\n",
    "                    )\n",
    "\n",
    "                    napi_entry = next((n for n in napi_data if n[\"uuid\"] == subfolder), None)\n",
    "                    if napi_entry:\n",
    "\n",
    "                        detail_entry = next((r for r in reszlet_data if r[\"folder_uuid\"] == folder), None)\n",
    "\n",
    "                        if detail_entry:\n",
    "                            results.append({\n",
    "                                'dátum': detail_entry[\"datum\"],\n",
    "                                'név': detail_entry[\"nev\"],\n",
    "                                'napirendi pont': napi_entry[\"targy\"],\n",
    "                                'file': file,\n",
    "                                'context': Markup(highlighted_context),\n",
    "                            })\n",
    "                    break\n",
    "\n",
    "print(f\"Number of results: {len(results)}\")\n",
    "\n"
   ]
  },
  {
   "cell_type": "code",
   "execution_count": 4,
   "id": "ad50140f",
   "metadata": {},
   "outputs": [
    {
     "data": {
      "text/plain": [
       "'2023.09.14.'"
      ]
     },
     "execution_count": 4,
     "metadata": {},
     "output_type": "execute_result"
    }
   ],
   "source": [
    "from datetime import datetime\n"
   ]
  },
  {
   "cell_type": "code",
   "execution_count": 7,
   "id": "0575d147",
   "metadata": {},
   "outputs": [
    {
     "data": {
      "text/plain": [
       "datetime.datetime(2023, 9, 14, 0, 0)"
      ]
     },
     "execution_count": 7,
     "metadata": {},
     "output_type": "execute_result"
    }
   ],
   "source": [
    "datetime.strptime(results[0]['dátum'], '%Y.%m.%d.')"
   ]
  }
 ],
 "metadata": {
  "kernelspec": {
   "display_name": "Python 3 (ipykernel)",
   "language": "python",
   "name": "python3"
  },
  "language_info": {
   "codemirror_mode": {
    "name": "ipython",
    "version": 3
   },
   "file_extension": ".py",
   "mimetype": "text/x-python",
   "name": "python",
   "nbconvert_exporter": "python",
   "pygments_lexer": "ipython3",
   "version": "3.10.12"
  }
 },
 "nbformat": 4,
 "nbformat_minor": 5
}
